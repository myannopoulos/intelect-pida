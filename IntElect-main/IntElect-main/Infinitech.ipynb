{
  "nbformat": 4,
  "nbformat_minor": 0,
  "metadata": {
    "colab": {
      "name": "Untitled16.ipynb",
      "provenance": [],
      "collapsed_sections": []
    },
    "kernelspec": {
      "name": "python3",
      "display_name": "Python 3"
    },
    "language_info": {
      "name": "python"
    }
  },
  "cells": [
    {
      "cell_type": "code",
      "execution_count": null,
      "metadata": {
        "id": "fLJC97nGcF9U"
      },
      "outputs": [],
      "source": [
        "import numpy as np\n",
        "import scipy.stats as stats\n",
        "import random\n",
        "import pandas as pd\n",
        "import math\n",
        "import matplotlib.pyplot as plt"
      ]
    },
    {
      "cell_type": "code",
      "source": [
        "def truncate_normal(value,upper,lower):\n",
        "  if value > upper:\n",
        "    return upper\n",
        "  if value<lower:\n",
        "    return lower\n",
        "  return value"
      ],
      "metadata": {
        "id": "ShI378fwe1PN"
      },
      "execution_count": null,
      "outputs": []
    },
    {
      "cell_type": "code",
      "source": [
        "vals = []"
      ],
      "metadata": {
        "id": "wcuuptxweCrt"
      },
      "execution_count": null,
      "outputs": []
    },
    {
      "cell_type": "code",
      "source": [
        "for i in range(37):\n",
        "  vals.append([])"
      ],
      "metadata": {
        "id": "pvTARhYFczfG"
      },
      "execution_count": null,
      "outputs": []
    },
    {
      "cell_type": "code",
      "source": [
        "for i in range(10000):\n",
        "  vals[36].append(11)\n",
        "  vals[0].append(truncate_normal(np.random.normal(0.5, 0.2, 1)[0],1,0))\n",
        "  vals[36][i]-=abs(vals[0][i]-0.5)*0.06\n",
        "  vals[1].append(truncate_normal(np.random.normal(1, 0.3, 1)[0],5,0.2))\n",
        "  if(vals[1][i]<0.8):\n",
        "     vals[36][i]-= (0.8-vals[1][i])*0.15\n",
        "  vals[2].append(truncate_normal(np.random.normal(2.5, 0.4, 1)[0],10,0.5))\n",
        "  if(vals[2][i]<0.8):\n",
        "     vals[36][i]-= (2-vals[2][i])*0.15\n",
        "  vals[3].append(truncate_normal(np.random.normal(3.5, 0.6, 1)[0],15,0.8))\n",
        "  if(vals[3][i]<0.8):\n",
        "     vals[36][i]-= (2.5-vals[1][i])*0.15\n",
        "  tmp = random.randrange(0,1000)\n",
        "  if(tmp <980):\n",
        "    vals[4].append(0)\n",
        "  elif(tmp<990):\n",
        "    vals[4].append(1)\n",
        "  elif(tmp<996):\n",
        "    vals[4].append(2)\n",
        "  else:\n",
        "    vals[4].append(3)\n",
        "  vals[36][i]-=vals[4][i]*2\n",
        "  tmp = random.randrange(0,101)\n",
        "  if(tmp<100):\n",
        "    tmp = 0\n",
        "  else:\n",
        "    tmp = 1\n",
        "  if(tmp==0):\n",
        "    vals[5].append(0)\n",
        "  else:\n",
        "    vals[5].append(truncate_normal(np.random.normal(0.5, 0.2, 1)[0],1,0))\n",
        "  if(tmp==1):\n",
        "    vals[36][i]-=1\n",
        "    vals[36][i]-=vals[5][i]\n",
        "  vals[6].append(truncate_normal(np.random.normal(12, 0.3, 1)[0],14,10))\n",
        "  vals[36][i] -= abs(vals[6][i]-12)*0.1\n",
        "  vals[7].append(truncate_normal(np.random.normal(0.8, 0.2, 1)[0],1,0))\n",
        "  vals[8].append(truncate_normal(np.random.normal(20, 10, 1)[0],100,1))\n",
        "  vals[36][i] -= vals[7][i]*0.01*vals[8][i]\n",
        "  vals[9].append(truncate_normal(np.random.normal(12, 0.3, 1)[0],14,10))\n",
        "  vals[36][i] -= abs(vals[9][i]-12)*0.1\n",
        "  vals[10].append(truncate_normal(np.random.normal(10, 2, 1)[0],30,3))\n",
        "  vals[36][i] -= max((12-vals[10][i])*0.03,0)\n",
        "  vals[11].append(truncate_normal(np.random.normal(2010, 10, 1)[0],2022,1970))\n",
        "  vals[36][i] -= max(0,((2022-vals[11][i])*(2022-vals[11][i])*0.00025))\n",
        "  vals[12].append(truncate_normal(np.random.normal(0.3, 0.3, 1)[0],1,0))\n",
        "  vals[36][i] -= (1-vals[12][i])*0.005\n",
        "  vals[13].append(random.randrange(0,100))\n",
        "  if(vals[13][i]>79):\n",
        "    vals[36][i] -= 0.03\n",
        "  vals[14].append(truncate_normal(np.random.normal(25, 3, 1)[0],35,15))\n",
        "  vals[36][i] -= abs(25-vals[14][i])*0.015\n",
        "  vals[15].append(truncate_normal(np.random.normal(0.5, 0.2, 1)[0],1,0))\n",
        "  vals[36][i] -= (1-vals[15][i])*0.015\n",
        "  vals[16].append(truncate_normal(np.random.normal(0.1, 0.1, 1)[0],1,0))\n",
        "  vals[36][i] -= (1-vals[16][i])*0.03\n",
        "  vals[17].append(truncate_normal(np.random.normal(50, 25, 1)[0],90,18))\n",
        "  vals[36][i] -= max(0,((50-vals[17][i])*(50-vals[17][i])*0.0012))\n",
        "  tmp = truncate_normal(np.random.normal(0.8, 0.3, 1)[0],1,0)\n",
        "  vals[18].append(truncate_normal(tmp*tmp*tmp,1,0))\n",
        "  vals[36][i] -= (1-vals[18][i])*0.075\n",
        "  vals[19].append(truncate_normal(np.random.normal(20, 15, 1)[0],200,0))\n",
        "  vals[36][i] -= max(0,(vals[19][i]-20)*0.00075)\n",
        "  vals[20].append(truncate_normal(np.random.normal(0.3, 0.3, 1)[0],1,0))\n",
        "  vals[36][i] -= vals[20][i]*0.015\n",
        "  vals[21].append(truncate_normal(np.random.normal(0.1, 0.1, 1)[0],1,0))\n",
        "  vals[36][i] -= vals[21][i]*0.045\n",
        "  vals[22].append(truncate_normal(np.random.normal(10, 10, 1)[0],100,1))\n",
        "  vals[36][i] -= max(0,(-10+vals[22][i])*0.015)\n",
        "  vals[23].append(truncate_normal(np.random.normal(5, 6, 1)[0],100,0))\n",
        "  vals[36][i] -= max(0,(vals[23][i]-5)*0.015)\n",
        "  if(random.randrange(0,101)<99):\n",
        "    vals[24].append(0)\n",
        "  else:\n",
        "    vals[24].append(truncate_normal(np.random.normal(0.9, 0.2, 1)[0],1,0))\n",
        "    vals[36][i] -= 1.5+(1-vals[24][i])\n",
        "  if(random.randrange(0,101)<99):\n",
        "    vals[25].append(0)\n",
        "  else:\n",
        "    vals[25].append(truncate_normal(np.random.normal(0.9, 0.2, 1)[0],1,0))\n",
        "    vals[36][i] -= 1.5+(1-vals[25][i])\n",
        "  if(random.randrange(0,101)<95):\n",
        "    vals[26].append(0)\n",
        "  else:\n",
        "    vals[26].append(truncate_normal(np.random.normal(0.1, 0.3, 1)[0],1,0))\n",
        "    vals[36][i] -= 0.2+vals[26][i]*5\n",
        "  vals[27].append(truncate_normal(np.random.normal(0.1, 0.2, 1)[0],1,0))\n",
        "  vals[36][i] -= vals[27][i]*0.3\n",
        "  vals[28].append(truncate_normal(np.random.normal(0.1, 0.2, 1)[0],1,0))\n",
        "  vals[36][i] -= vals[28][i]*0.3\n",
        "  tmp = truncate_normal(np.random.normal(0.8, 0.3, 1)[0],1,0)\n",
        "  vals[29].append(truncate_normal(tmp*tmp*tmp,1,0))\n",
        "  vals[36][i] -= max(0,(1-vals[29][i])*0.3)\n",
        "  vals[30].append(truncate_normal(np.random.normal(2.5, 0.3, 1)[0],5,1.8))\n",
        "  vals[36][i] -= max(0,(vals[30][i]-2.5)*0.03)\n",
        "  vals[31].append(truncate_normal(np.random.normal(10, 10, 1)[0],50,0))\n",
        "  vals[36][i] -= max(0,(vals[31][i]-10)*0.015)\n",
        "  vals[32].append(truncate_normal(np.random.normal(50, 30, 1)[0],200,25))\n",
        "  vals[36][i] -= max(0,(vals[32][i]-80)*0.0075)\n",
        "  vals[33].append(truncate_normal(np.random.normal(15, 5, 1)[0],30,5))\n",
        "  vals[36][i] -= abs(15-vals[33][i])*0.075\n",
        "  vals[34].append(truncate_normal(np.random.normal(15, 5, 1)[0],30,5))\n",
        "  vals[36][i] -= abs(15-vals[34][i])*0.095\n",
        "  vals[35].append(truncate_normal(np.random.normal(0.2, 0.3, 1)[0],1,0))\n",
        "  vals[36][i] -= vals[35][i]*0.075\n",
        "  vals[36][i] = round(vals[36][i])\n",
        "  if(vals[36][i]>10):\n",
        "    vals[36][i] = 10"
      ],
      "metadata": {
        "id": "LWIwAhzHc1Gc"
      },
      "execution_count": null,
      "outputs": []
    },
    {
      "cell_type": "code",
      "source": [
        "df = pd.DataFrame(vals)\n",
        "df = df.transpose()\n",
        "df.to_csv('out.csv',index=False)"
      ],
      "metadata": {
        "id": "Q44hz4w0d1w1"
      },
      "execution_count": null,
      "outputs": []
    },
    {
      "cell_type": "code",
      "source": [
        "X = df.drop([36], axis = 1)\n",
        "y = df[36]\n",
        "\n",
        "from sklearn.model_selection import train_test_split\n",
        "X_train, X_test, y_train, y_test = train_test_split(X,y, test_size = 0.3, random_state = 4)"
      ],
      "metadata": {
        "id": "W1m1NGaK_YP2"
      },
      "execution_count": null,
      "outputs": []
    },
    {
      "cell_type": "code",
      "source": [
        "from sklearn.linear_model import LinearRegression\n",
        "\n",
        "# Create a Linear regressor\n",
        "lm = LinearRegression()\n",
        "\n",
        "# Train the model using the training sets \n",
        "lm.fit(X_train, y_train)"
      ],
      "metadata": {
        "colab": {
          "base_uri": "https://localhost:8080/"
        },
        "id": "P9asRQjod10E",
        "outputId": "3375416f-c1f5-41b6-d23a-019f9963fd81"
      },
      "execution_count": null,
      "outputs": [
        {
          "output_type": "execute_result",
          "data": {
            "text/plain": [
              "LinearRegression()"
            ]
          },
          "metadata": {},
          "execution_count": 65
        }
      ]
    },
    {
      "cell_type": "code",
      "source": [
        "y_pred = lm.predict(X_train)"
      ],
      "metadata": {
        "id": "sk234O7S_SUW"
      },
      "execution_count": null,
      "outputs": []
    },
    {
      "cell_type": "code",
      "source": [
        "from sklearn import metrics\n",
        "\n",
        "print('R^2:',metrics.r2_score(y_train, y_pred))\n",
        "print('Adjusted R^2:',1 - (1-metrics.r2_score(y_train, y_pred))*(len(y_train)-1)/(len(y_train)-X_train.shape[1]-1))\n",
        "print('MAE:',metrics.mean_absolute_error(y_train, y_pred))\n",
        "print('MSE:',metrics.mean_squared_error(y_train, y_pred))\n",
        "print('RMSE:',np.sqrt(metrics.mean_squared_error(y_train, y_pred)))"
      ],
      "metadata": {
        "colab": {
          "base_uri": "https://localhost:8080/"
        },
        "id": "7aombYni_Suv",
        "outputId": "c5c05223-d88f-4102-870f-1009b1df93e2"
      },
      "execution_count": null,
      "outputs": [
        {
          "output_type": "stream",
          "name": "stdout",
          "text": [
            "R^2: 0.5344013759539028\n",
            "Adjusted R^2: 0.5319941448084684\n",
            "MAE: 0.5832359379877693\n",
            "MSE: 0.5365436062563061\n",
            "RMSE: 0.732491369407385\n"
          ]
        }
      ]
    },
    {
      "cell_type": "code",
      "source": [
        "from sklearn.ensemble import RandomForestRegressor\n",
        "\n",
        "reg = RandomForestRegressor()"
      ],
      "metadata": {
        "id": "5xEoy3oY_TF2"
      },
      "execution_count": null,
      "outputs": []
    },
    {
      "cell_type": "code",
      "source": [
        "reg.fit(X_train, y_train)"
      ],
      "metadata": {
        "colab": {
          "base_uri": "https://localhost:8080/"
        },
        "id": "Ejwkogmcd12s",
        "outputId": "77fa7da4-d4f0-42ea-859c-d9742a741d01"
      },
      "execution_count": null,
      "outputs": [
        {
          "output_type": "execute_result",
          "data": {
            "text/plain": [
              "RandomForestRegressor()"
            ]
          },
          "metadata": {},
          "execution_count": 69
        }
      ]
    },
    {
      "cell_type": "code",
      "source": [
        "y_pred = reg.predict(X_train)"
      ],
      "metadata": {
        "id": "wnNaR8ucd15U"
      },
      "execution_count": null,
      "outputs": []
    },
    {
      "cell_type": "code",
      "source": [
        "print('R^2:',metrics.r2_score(y_train, y_pred))\n",
        "print('Adjusted R^2:',1 - (1-metrics.r2_score(y_train, y_pred))*(len(y_train)-1)/(len(y_train)-X_train.shape[1]-1))\n",
        "print('MAE:',metrics.mean_absolute_error(y_train, y_pred))\n",
        "print('MSE:',metrics.mean_squared_error(y_train, y_pred))\n",
        "print('RMSE:',np.sqrt(metrics.mean_squared_error(y_train, y_pred)))"
      ],
      "metadata": {
        "colab": {
          "base_uri": "https://localhost:8080/"
        },
        "id": "c22Sbv7td170",
        "outputId": "0dd019ee-06f1-4d08-f9b1-b3e14c7297cd"
      },
      "execution_count": null,
      "outputs": [
        {
          "output_type": "stream",
          "name": "stdout",
          "text": [
            "R^2: 0.9787049485134597\n",
            "Adjusted R^2: 0.9785948491520472\n",
            "MAE: 0.11436285714285707\n",
            "MSE: 0.024539857142857138\n",
            "RMSE: 0.15665202565832698\n"
          ]
        }
      ]
    },
    {
      "cell_type": "code",
      "source": [
        "plt.scatter(y_train, y_pred)\n",
        "plt.xlabel(\"Skill Level\")\n",
        "plt.ylabel(\"Predicted skill level\")\n",
        "plt.title(\"Skill Level vs Predicted Skill Level\")\n",
        "plt.show()"
      ],
      "metadata": {
        "colab": {
          "base_uri": "https://localhost:8080/",
          "height": 295
        },
        "id": "5pyt2lnqd1-M",
        "outputId": "5c8320e2-1364-478d-9334-c495fb0816ba"
      },
      "execution_count": null,
      "outputs": [
        {
          "output_type": "display_data",
          "data": {
            "text/plain": [
              "<Figure size 432x288 with 1 Axes>"
            ],
            "image/png": "[encoded data removed]"
          },
          "metadata": {
            "needs_background": "light"
          }
        }
      ]
    },
    {
      "cell_type": "code",
      "source": [
        "y_test_pred = reg.predict(X_test)"
      ],
      "metadata": {
        "id": "fB0yS198B7Vm"
      },
      "execution_count": null,
      "outputs": []
    },
    {
      "cell_type": "code",
      "source": [
        "acc_rf = metrics.r2_score(y_test, y_test_pred)\n",
        "print('R^2:', acc_rf)\n",
        "print('Adjusted R^2:',1 - (1-metrics.r2_score(y_test, y_test_pred))*(len(y_test)-1)/(len(y_test)-X_test.shape[1]-1))\n",
        "print('MAE:',metrics.mean_absolute_error(y_test, y_test_pred))\n",
        "print('MSE:',metrics.mean_squared_error(y_test, y_test_pred))\n",
        "print('RMSE:',np.sqrt(metrics.mean_squared_error(y_test, y_test_pred)))"
      ],
      "metadata": {
        "colab": {
          "base_uri": "https://localhost:8080/"
        },
        "id": "nGj9lgirB7dt",
        "outputId": "901d0308-7197-4766-9412-78ece07c61c4"
      },
      "execution_count": null,
      "outputs": [
        {
          "output_type": "stream",
          "name": "stdout",
          "text": [
            "R^2: 0.8472460261357992\n",
            "Adjusted R^2: 0.845390088552569\n",
            "MAE: 0.31287666666666664\n",
            "MSE: 0.17767663333333333\n",
            "RMSE: 0.42151706173455583\n"
          ]
        }
      ]
    },
    {
      "cell_type": "code",
      "source": [
        "plt.scatter(y_test, y_test_pred)\n",
        "plt.xlabel(\"Skill Level\")\n",
        "plt.ylabel(\"Predicted skill level\")\n",
        "plt.title(\"Skill Level vs Predicted Skill Level\")\n",
        "plt.show()"
      ],
      "metadata": {
        "colab": {
          "base_uri": "https://localhost:8080/",
          "height": 295
        },
        "id": "4gFIyfgjCBic",
        "outputId": "ef055676-318a-4e85-b902-acd8f0d8f3a0"
      },
      "execution_count": null,
      "outputs": [
        {
          "output_type": "display_data",
          "data": {
            "text/plain": [
              "<Figure size 432x288 with 1 Axes>"
            ],
            "image/png": "[encoded data removed]"
          },
          "metadata": {
            "needs_background": "light"
          }
        }
      ]
    },
    {
      "cell_type": "code",
      "source": [
        "from xgboost import XGBRegressor\n",
        "\n",
        "#Create a XGBoost Regressor\n",
        "reg = XGBRegressor()\n",
        "\n",
        "# Train the model using the training sets \n",
        "reg.fit(X_train, y_train)"
      ],
      "metadata": {
        "colab": {
          "base_uri": "https://localhost:8080/"
        },
        "id": "lX7qYLd3d2At",
        "outputId": "9c8a8ce8-c946-4156-bd59-34e01a68493f"
      },
      "execution_count": null,
      "outputs": [
        {
          "output_type": "stream",
          "name": "stdout",
          "text": [
            "[20:36:31] WARNING: /workspace/src/objective/regression_obj.cu:152: reg:linear is now deprecated in favor of reg:squarederror.\n"
          ]
        },
        {
          "output_type": "execute_result",
          "data": {
            "text/plain": [
              "XGBRegressor()"
            ]
          },
          "metadata": {},
          "execution_count": 76
        }
      ]
    },
    {
      "cell_type": "code",
      "source": [
        "y_pred = reg.predict(X_train)"
      ],
      "metadata": {
        "id": "4ZOubzrJ9KRp"
      },
      "execution_count": null,
      "outputs": []
    },
    {
      "cell_type": "code",
      "source": [
        "print('R^2:',metrics.r2_score(y_train, y_pred))\n",
        "print('Adjusted R^2:',1 - (1-metrics.r2_score(y_train, y_pred))*(len(y_train)-1)/(len(y_train)-X_train.shape[1]-1))\n",
        "print('MAE:',metrics.mean_absolute_error(y_train, y_pred))\n",
        "print('MSE:',metrics.mean_squared_error(y_train, y_pred))\n",
        "print('RMSE:',np.sqrt(metrics.mean_squared_error(y_train, y_pred)))"
      ],
      "metadata": {
        "colab": {
          "base_uri": "https://localhost:8080/"
        },
        "id": "rwFgjH5j9KUX",
        "outputId": "d63c6d30-47aa-4fbf-a179-093dda79bf84"
      },
      "execution_count": null,
      "outputs": [
        {
          "output_type": "stream",
          "name": "stdout",
          "text": [
            "R^2: 0.8972675665824654\n",
            "Adjusted R^2: 0.8967364208689754\n",
            "MAE: 0.2860669174875532\n",
            "MSE: 0.1183861537783939\n",
            "RMSE: 0.3440728902113532\n"
          ]
        }
      ]
    },
    {
      "cell_type": "code",
      "source": [
        "plt.scatter(y_train, y_pred)\n",
        "plt.xlabel(\"Skill Level\")\n",
        "plt.ylabel(\"Predicted skill level\")\n",
        "plt.title(\"Skill Level vs Predicted Skill Level\")\n",
        "plt.show()"
      ],
      "metadata": {
        "colab": {
          "base_uri": "https://localhost:8080/",
          "height": 295
        },
        "id": "TMJWlhKI9KWu",
        "outputId": "b9a1ec02-76e2-410d-b313-fcdf956be2df"
      },
      "execution_count": null,
      "outputs": [
        {
          "output_type": "display_data",
          "data": {
            "text/plain": [
              "<Figure size 432x288 with 1 Axes>"
            ],
            "image/png": "[encoded data removed]"
          },
          "metadata": {
            "needs_background": "light"
          }
        }
      ]
    },
    {
      "cell_type": "code",
      "source": [
        "y_test_pred = reg.predict(X_test)"
      ],
      "metadata": {
        "id": "kJ51o9kD_HD_"
      },
      "execution_count": null,
      "outputs": []
    },
    {
      "cell_type": "code",
      "source": [
        "# Model Evaluation\n",
        "acc_xgb = metrics.r2_score(y_test, y_test_pred)\n",
        "print('R^2:', acc_xgb)\n",
        "print('Adjusted R^2:',1 - (1-metrics.r2_score(y_test, y_test_pred))*(len(y_test)-1)/(len(y_test)-X_test.shape[1]-1))\n",
        "print('MAE:',metrics.mean_absolute_error(y_test, y_test_pred))\n",
        "print('MSE:',metrics.mean_squared_error(y_test, y_test_pred))\n",
        "print('RMSE:',np.sqrt(metrics.mean_squared_error(y_test, y_test_pred)))"
      ],
      "metadata": {
        "colab": {
          "base_uri": "https://localhost:8080/"
        },
        "id": "ffocCzMc_HJW",
        "outputId": "7936b108-f3b0-454f-c9e6-af1bafd8c5bc"
      },
      "execution_count": null,
      "outputs": [
        {
          "output_type": "stream",
          "name": "stdout",
          "text": [
            "R^2: 0.871583099325906\n",
            "Adjusted R^2: 0.8700228534857888\n",
            "MAE: 0.3161028521855672\n",
            "MSE: 0.14936883144629842\n",
            "RMSE: 0.3864826405497386\n"
          ]
        }
      ]
    },
    {
      "cell_type": "code",
      "source": [
        "plt.scatter(y_test, y_test_pred)\n",
        "plt.xlabel(\"Skill Level\")\n",
        "plt.ylabel(\"Predicted skill level\")\n",
        "plt.title(\"Skill Level vs Predicted Skill Level\")\n",
        "plt.show()"
      ],
      "metadata": {
        "colab": {
          "base_uri": "https://localhost:8080/",
          "height": 295
        },
        "id": "OGj9GuEr_HOQ",
        "outputId": "8a730369-313f-4a12-b001-9d6996833f39"
      },
      "execution_count": null,
      "outputs": [
        {
          "output_type": "display_data",
          "data": {
            "text/plain": [
              "<Figure size 432x288 with 1 Axes>"
            ],
            "image/png": "[encoded data removed]"
          },
          "metadata": {
            "needs_background": "light"
          }
        }
      ]
    },
    {
      "cell_type": "code",
      "source": [
        "from sklearn.preprocessing import StandardScaler\n",
        "sc = StandardScaler()\n",
        "X_train = sc.fit_transform(X_train)\n",
        "X_test = sc.transform(X_test)"
      ],
      "metadata": {
        "id": "AeSO3aDMDMbe"
      },
      "execution_count": null,
      "outputs": []
    },
    {
      "cell_type": "code",
      "source": [
        "from sklearn import svm\n",
        "\n",
        "# Create a SVM Regressor\n",
        "reg = svm.SVR()"
      ],
      "metadata": {
        "id": "_3VkgjRnDMg1"
      },
      "execution_count": null,
      "outputs": []
    },
    {
      "cell_type": "code",
      "source": [
        "reg.fit(X_train, y_train)"
      ],
      "metadata": {
        "colab": {
          "base_uri": "https://localhost:8080/"
        },
        "id": "Pp36v3miDMkF",
        "outputId": "9b7d56a0-e16f-4545-a741-ee9d6a657451"
      },
      "execution_count": null,
      "outputs": [
        {
          "output_type": "execute_result",
          "data": {
            "text/plain": [
              "SVR()"
            ]
          },
          "metadata": {},
          "execution_count": 85
        }
      ]
    },
    {
      "cell_type": "code",
      "source": [
        "y_pred = reg.predict(X_train)"
      ],
      "metadata": {
        "id": "DuWVen6_DMmt"
      },
      "execution_count": null,
      "outputs": []
    },
    {
      "cell_type": "code",
      "source": [
        "print('R^2:',metrics.r2_score(y_train, y_pred))\n",
        "print('Adjusted R^2:',1 - (1-metrics.r2_score(y_train, y_pred))*(len(y_train)-1)/(len(y_train)-X_train.shape[1]-1))\n",
        "print('MAE:',metrics.mean_absolute_error(y_train, y_pred))\n",
        "print('MSE:',metrics.mean_squared_error(y_train, y_pred))\n",
        "print('RMSE:',np.sqrt(metrics.mean_squared_error(y_train, y_pred)))"
      ],
      "metadata": {
        "colab": {
          "base_uri": "https://localhost:8080/"
        },
        "id": "SdtoqE0lDWVE",
        "outputId": "67bc9f5d-ed94-4631-8d5c-2893437ee1fc"
      },
      "execution_count": null,
      "outputs": [
        {
          "output_type": "stream",
          "name": "stdout",
          "text": [
            "R^2: 0.9430941230849623\n",
            "Adjusted R^2: 0.9427999091586459\n",
            "MAE: 0.18220343524588614\n",
            "MSE: 0.06557683558392327\n",
            "RMSE: 0.25607974457954163\n"
          ]
        }
      ]
    },
    {
      "cell_type": "code",
      "source": [
        "plt.scatter(y_train, y_pred)\n",
        "plt.xlabel(\"Prices\")\n",
        "plt.ylabel(\"Predicted prices\")\n",
        "plt.title(\"Prices vs Predicted prices\")\n",
        "plt.show()"
      ],
      "metadata": {
        "colab": {
          "base_uri": "https://localhost:8080/",
          "height": 295
        },
        "id": "_UKwt4brDWZE",
        "outputId": "26b7008d-1dba-4ca6-ce86-a37ed6e526f1"
      },
      "execution_count": null,
      "outputs": [
        {
          "output_type": "display_data",
          "data": {
            "text/plain": [
              "<Figure size 432x288 with 1 Axes>"
            ],
            "image/png": "[encoded data removed]"
          },
          "metadata": {
            "needs_background": "light"
          }
        }
      ]
    },
    {
      "cell_type": "code",
      "source": [
        "y_test_pred = reg.predict(X_test)"
      ],
      "metadata": {
        "id": "Vudpqe20DWdk"
      },
      "execution_count": null,
      "outputs": []
    },
    {
      "cell_type": "code",
      "source": [
        "# Model Evaluation\n",
        "acc_svm = metrics.r2_score(y_test, y_test_pred)\n",
        "print('R^2:', acc_svm)\n",
        "print('Adjusted R^2:',1 - (1-metrics.r2_score(y_test, y_test_pred))*(len(y_test)-1)/(len(y_test)-X_test.shape[1]-1))\n",
        "print('MAE:',metrics.mean_absolute_error(y_test, y_test_pred))\n",
        "print('MSE:',metrics.mean_squared_error(y_test, y_test_pred))\n",
        "print('RMSE:',np.sqrt(metrics.mean_squared_error(y_test, y_test_pred)))"
      ],
      "metadata": {
        "colab": {
          "base_uri": "https://localhost:8080/"
        },
        "id": "NpGdB3cTDjcE",
        "outputId": "7e60c31d-924b-4f24-b879-5986a689651e"
      },
      "execution_count": null,
      "outputs": [
        {
          "output_type": "stream",
          "name": "stdout",
          "text": [
            "R^2: 0.8268842565054353\n",
            "Adjusted R^2: 0.8247809265136012\n",
            "MAE: 0.3462588594678908\n",
            "MSE: 0.20136053879983343\n",
            "RMSE: 0.44873214593990635\n"
          ]
        }
      ]
    },
    {
      "cell_type": "code",
      "source": [
        "plt.scatter(y_test, y_test_pred)\n",
        "plt.xlabel(\"Skill Level\")\n",
        "plt.ylabel(\"Predicted skill level\")\n",
        "plt.title(\"Skill Level vs Predicted Skill Level\")\n",
        "plt.show()"
      ],
      "metadata": {
        "colab": {
          "base_uri": "https://localhost:8080/",
          "height": 295
        },
        "id": "UQaS-WvHDjgE",
        "outputId": "28c71d45-cf87-484f-8962-16a4820e1464"
      },
      "execution_count": null,
      "outputs": [
        {
          "output_type": "display_data",
          "data": {
            "text/plain": [
              "<Figure size 432x288 with 1 Axes>"
            ],
            "image/png": "[encoded data removed]"
          },
          "metadata": {
            "needs_background": "light"
          }
        }
      ]
    },
    {
      "cell_type": "code",
      "source": [
        "models = pd.DataFrame({\n",
        "    'Model': ['Random Forest', 'XGBoost', 'Support Vector Machines'],\n",
        "    'R-squared Score': [acc_rf*100, acc_xgb*100, acc_svm*100]})\n",
        "models.sort_values(by='R-squared Score', ascending=False)"
      ],
      "metadata": {
        "colab": {
          "base_uri": "https://localhost:8080/",
          "height": 143
        },
        "id": "h6hbXCj1Djj1",
        "outputId": "8403ac63-42b7-41f8-faf4-0cfb00343e04"
      },
      "execution_count": null,
      "outputs": [
        {
          "output_type": "execute_result",
          "data": {
            "text/plain": [
              "                     Model  R-squared Score\n",
              "1                  XGBoost        87.158310\n",
              "0            Random Forest        84.724603\n",
              "2  Support Vector Machines        82.688426"
            ],
            "text/html": [
              "\n",
              "  <div id=\"df-f67aec52-0a28-4fd6-b182-829cd9a06835\">\n",
              "    <div class=\"colab-df-container\">\n",
              "      <div>\n",
              "<style scoped>\n",
              "    .dataframe tbody tr th:only-of-type {\n",
              "        vertical-align: middle;\n",
              "    }\n",
              "\n",
              "    .dataframe tbody tr th {\n",
              "        vertical-align: top;\n",
              "    }\n",
              "\n",
              "    .dataframe thead th {\n",
              "        text-align: right;\n",
              "    }\n",
              "</style>\n",
              "<table border=\"1\" class=\"dataframe\">\n",
              "  <thead>\n",
              "    <tr style=\"text-align: right;\">\n",
              "      <th></th>\n",
              "      <th>Model</th>\n",
              "      <th>R-squared Score</th>\n",
              "    </tr>\n",
              "  </thead>\n",
              "  <tbody>\n",
              "    <tr>\n",
              "      <th>1</th>\n",
              "      <td>XGBoost</td>\n",
              "      <td>87.158310</td>\n",
              "    </tr>\n",
              "    <tr>\n",
              "      <th>0</th>\n",
              "      <td>Random Forest</td>\n",
              "      <td>84.724603</td>\n",
              "    </tr>\n",
              "    <tr>\n",
              "      <th>2</th>\n",
              "      <td>Support Vector Machines</td>\n",
              "      <td>82.688426</td>\n",
              "    </tr>\n",
              "  </tbody>\n",
              "</table>\n",
              "</div>\n",
              "      <button class=\"colab-df-convert\" onclick=\"convertToInteractive('df-f67aec52-0a28-4fd6-b182-829cd9a06835')\"\n",
              "              title=\"Convert this dataframe to an interactive table.\"\n",
              "              style=\"display:none;\">\n",
              "        \n",
              "  <svg xmlns=\"http://www.w3.org/2000/svg\" height=\"24px\"viewBox=\"0 0 24 24\"\n",
              "       width=\"24px\">\n",
              "    <path d=\"M0 0h24v24H0V0z\" fill=\"none\"/>\n",
              "    <path d=\"M18.56 5.44l.94 2.06.94-2.06 2.06-.94-2.06-.94-.94-2.06-.94 2.06-2.06.94zm-11 1L8.5 8.5l.94-2.06 2.06-.94-2.06-.94L8.5 2.5l-.94 2.06-2.06.94zm10 10l.94 2.06.94-2.06 2.06-.94-2.06-.94-.94-2.06-.94 2.06-2.06.94z\"/><path d=\"M17.41 7.96l-1.37-1.37c-.4-.4-.92-.59-1.43-.59-.52 0-1.04.2-1.43.59L10.3 9.45l-7.72 7.72c-.78.78-.78 2.05 0 2.83L4 21.41c.39.39.9.59 1.41.59.51 0 1.02-.2 1.41-.59l7.78-7.78 2.81-2.81c.8-.78.8-2.07 0-2.86zM5.41 20L4 18.59l7.72-7.72 1.47 1.35L5.41 20z\"/>\n",
              "  </svg>\n",
              "      </button>\n",
              "      \n",
              "  <style>\n",
              "    .colab-df-container {\n",
              "      display:flex;\n",
              "      flex-wrap:wrap;\n",
              "      gap: 12px;\n",
              "    }\n",
              "\n",
              "    .colab-df-convert {\n",
              "      background-color: #E8F0FE;\n",
              "      border: none;\n",
              "      border-radius: 50%;\n",
              "      cursor: pointer;\n",
              "      display: none;\n",
              "      fill: #1967D2;\n",
              "      height: 32px;\n",
              "      padding: 0 0 0 0;\n",
              "      width: 32px;\n",
              "    }\n",
              "\n",
              "    .colab-df-convert:hover {\n",
              "      background-color: #E2EBFA;\n",
              "      box-shadow: 0px 1px 2px rgba(60, 64, 67, 0.3), 0px 1px 3px 1px rgba(60, 64, 67, 0.15);\n",
              "      fill: #174EA6;\n",
              "    }\n",
              "\n",
              "    [theme=dark] .colab-df-convert {\n",
              "      background-color: #3B4455;\n",
              "      fill: #D2E3FC;\n",
              "    }\n",
              "\n",
              "    [theme=dark] .colab-df-convert:hover {\n",
              "      background-color: #434B5C;\n",
              "      box-shadow: 0px 1px 3px 1px rgba(0, 0, 0, 0.15);\n",
              "      filter: drop-shadow(0px 1px 2px rgba(0, 0, 0, 0.3));\n",
              "      fill: #FFFFFF;\n",
              "    }\n",
              "  </style>\n",
              "\n",
              "      <script>\n",
              "        const buttonEl =\n",
              "          document.querySelector('#df-f67aec52-0a28-4fd6-b182-829cd9a06835 button.colab-df-convert');\n",
              "        buttonEl.style.display =\n",
              "          google.colab.kernel.accessAllowed ? 'block' : 'none';\n",
              "\n",
              "        async function convertToInteractive(key) {\n",
              "          const element = document.querySelector('#df-f67aec52-0a28-4fd6-b182-829cd9a06835');\n",
              "          const dataTable =\n",
              "            await google.colab.kernel.invokeFunction('convertToInteractive',\n",
              "                                                     [key], {});\n",
              "          if (!dataTable) return;\n",
              "\n",
              "          const docLinkHtml = 'Like what you see? Visit the ' +\n",
              "            '<a target=\"_blank\" href=https://colab.research.google.com/notebooks/data_table.ipynb>data table notebook</a>'\n",
              "            + ' to learn more about interactive tables.';\n",
              "          element.innerHTML = '';\n",
              "          dataTable['output_type'] = 'display_data';\n",
              "          await google.colab.output.renderOutput(dataTable, element);\n",
              "          const docLink = document.createElement('div');\n",
              "          docLink.innerHTML = docLinkHtml;\n",
              "          element.appendChild(docLink);\n",
              "        }\n",
              "      </script>\n",
              "    </div>\n",
              "  </div>\n",
              "  "
            ]
          },
          "metadata": {},
          "execution_count": 92
        }
      ]
    },
    {
      "cell_type": "code",
      "source": [
        "datf = pd.read_csv('fake_data.csv')  "
      ],
      "metadata": {
        "id": "QVHl0w2vUE9c"
      },
      "execution_count": null,
      "outputs": []
    },
    {
      "cell_type": "code",
      "source": [
        "from sklearn.datasets import load_digits\n",
        "from sklearn.decomposition import PCA\n",
        "from sklearn.cluster import KMeans\n",
        "import numpy as np\n",
        "\n",
        "pca = PCA(2)\n",
        "\n",
        "df = datf.to_numpy()\n",
        "\n",
        "print(type(datf))\n",
        "print(type(df))"
      ],
      "metadata": {
        "colab": {
          "base_uri": "https://localhost:8080/"
        },
        "id": "IMqIJgaUUFFJ",
        "outputId": "65f1eeea-9fa5-4ae8-c48a-6e4022feeb4f"
      },
      "execution_count": null,
      "outputs": [
        {
          "output_type": "stream",
          "name": "stdout",
          "text": [
            "<class 'pandas.core.frame.DataFrame'>\n",
            "<class 'numpy.ndarray'>\n"
          ]
        }
      ]
    },
    {
      "cell_type": "code",
      "source": [
        "#Import required module\n",
        "from sklearn.cluster import KMeans\n",
        " \n",
        "#Initialize the class object\n",
        "kmeans = KMeans(n_clusters= 3)\n",
        " \n",
        "#predict the labels of clusters.\n",
        "label = kmeans.fit_predict(df)\n",
        " \n",
        "print(label)"
      ],
      "metadata": {
        "colab": {
          "base_uri": "https://localhost:8080/"
        },
        "id": "TsA6ZcbhUFHW",
        "outputId": "48f73a23-39d2-41f3-8fe4-6be8a3743869"
      },
      "execution_count": null,
      "outputs": [
        {
          "output_type": "stream",
          "name": "stdout",
          "text": [
            "[0 0 0 0 0 0 0 2 2 2 2 1 1 1 1 1 1 1 1]\n"
          ]
        }
      ]
    },
    {
      "cell_type": "code",
      "source": [
        "import matplotlib.pyplot as plt\n",
        " \n",
        "#filter rows of original data\n",
        "filtered_label0 = df[label == 0]\n",
        " \n",
        "#plotting the results\n",
        "plt.scatter(filtered_label0[:,0] , filtered_label0[:,1])\n",
        "plt.show()"
      ],
      "metadata": {
        "colab": {
          "base_uri": "https://localhost:8080/",
          "height": 268
        },
        "id": "Qqvth-RDS8j9",
        "outputId": "23720691-547f-45eb-b7a8-72455983ad54"
      },
      "execution_count": null,
      "outputs": [
        {
          "output_type": "display_data",
          "data": {
            "text/plain": [
              "<Figure size 432x288 with 1 Axes>"
            ],
            "image/png": "[encoded data removed]"
          },
          "metadata": {
            "needs_background": "light"
          }
        }
      ]
    },
    {
      "cell_type": "code",
      "source": [
        "#Getting unique labels\n",
        " \n",
        "u_labels = np.unique(label)\n",
        " \n",
        "#plotting the results:\n",
        " \n",
        "for i in u_labels:\n",
        "    plt.scatter(df[label == i , 0] , df[label == i , 1] , label = i)\n",
        "\n",
        "plt.title('Braking force - Safety correlation')\n",
        "plt.ylabel('Brake pedal force')\n",
        "plt.xlabel('Driver safety score')\n",
        "plt.show()"
      ],
      "metadata": {
        "colab": {
          "base_uri": "https://localhost:8080/",
          "height": 295
        },
        "id": "Wcbl3_M5T-55",
        "outputId": "49b4a20c-d91a-44ba-a832-8066724d4225"
      },
      "execution_count": null,
      "outputs": [
        {
          "output_type": "display_data",
          "data": {
            "text/plain": [
              "<Figure size 432x288 with 1 Axes>"
            ],
            "image/png": "[encoded data removed]"
          },
          "metadata": {
            "needs_background": "light"
          }
        }
      ]
    },
    {
      "cell_type": "code",
      "source": [
        "#Getting the Centroids\n",
        "centroids = kmeans.cluster_centers_\n",
        "u_labels = np.unique(label)\n",
        " \n",
        "#plotting the results:\n",
        "\n",
        "labels = ['Less Safe', 'Very Safe', 'Average']\n",
        "colors = ['orange', 'green', 'blue']\n",
        " \n",
        "for i in u_labels:\n",
        "    plt.scatter(df[label == i , 0] , df[label == i , 1] , label = labels[i], color = colors[i])\n",
        "#plt.scatter(centroids[:,0] , centroids[:,1] , s = 1, color = 'red')\n",
        "circle1 = plt.Circle((centroids[0,0], centroids[0,1]), 2.2, color='orange', alpha=0.3)\n",
        "circle2 = plt.Circle((centroids[1,0]-0.15, centroids[1,1]), 2.2, color='green', alpha=0.3)\n",
        "circle3 = plt.Circle((centroids[2,0]-0.3, centroids[2,1]), 2, color='blue', alpha=0.3)\n",
        "plt.gca().add_patch(circle1)\n",
        "plt.gca().add_patch(circle2)\n",
        "plt.gca().add_patch(circle3)\n",
        "plt.title('Braking force - Safety correlation')\n",
        "plt.ylabel('Brake pedal force')\n",
        "plt.xlabel('Driver safety score')\n",
        "plt.legend()\n",
        "plt.show()"
      ],
      "metadata": {
        "colab": {
          "base_uri": "https://localhost:8080/",
          "height": 295
        },
        "id": "acGMbtBkZgn9",
        "outputId": "a4a1ba2c-81e4-4cd5-d250-5f5f78dda3ba"
      },
      "execution_count": null,
      "outputs": [
        {
          "output_type": "display_data",
          "data": {
            "text/plain": [
              "<Figure size 432x288 with 1 Axes>"
            ],
            "image/png": "[encoded data removed]"
          },
          "metadata": {
            "needs_background": "light"
          }
        }
      ]
    },
    {
      "cell_type": "code",
      "source": [
        "dddd = pd.read_csv('real_data.csv')  "
      ],
      "metadata": {
        "id": "eHEXdLP4bvmL"
      },
      "execution_count": null,
      "outputs": []
    },
    {
      "cell_type": "code",
      "source": [
        "from sklearn.datasets import load_digits\n",
        "from sklearn.decomposition import PCA\n",
        "from sklearn.cluster import KMeans\n",
        "import numpy as np\n",
        "\n",
        "pca = PCA(2)\n",
        "\n",
        "df = dddd.to_numpy()\n",
        "\n",
        "print(type(dddd))\n",
        "print(type(df))"
      ],
      "metadata": {
        "colab": {
          "base_uri": "https://localhost:8080/"
        },
        "id": "IdV9lSLLctFN",
        "outputId": "eedbe9b5-75d0-4e5e-ef75-953a0b7c4c03"
      },
      "execution_count": null,
      "outputs": [
        {
          "output_type": "stream",
          "name": "stdout",
          "text": [
            "<class 'pandas.core.frame.DataFrame'>\n",
            "<class 'numpy.ndarray'>\n"
          ]
        }
      ]
    },
    {
      "cell_type": "code",
      "source": [
        "#Import required module\n",
        "from sklearn.cluster import KMeans\n",
        " \n",
        "#Initialize the class object\n",
        "kmeans = KMeans(n_clusters= 3)\n",
        " \n",
        "#predict the labels of clusters.\n",
        "label = kmeans.fit_predict(df)\n",
        " \n",
        "print(label)"
      ],
      "metadata": {
        "colab": {
          "base_uri": "https://localhost:8080/"
        },
        "id": "CgRMlo7vcv4s",
        "outputId": "f4571ffc-cc04-4091-f0f9-9ccf8a9401d5"
      },
      "execution_count": null,
      "outputs": [
        {
          "output_type": "stream",
          "name": "stdout",
          "text": [
            "[1 1 1 1 1 1 1 1 1 1 1 0 0 0 2 2 2 2 0]\n"
          ]
        }
      ]
    },
    {
      "cell_type": "code",
      "source": [
        "import matplotlib.pyplot as plt\n",
        " \n",
        "#filter rows of original data\n",
        "filtered_label0 = df[label == 0]\n",
        " \n",
        "#plotting the results\n",
        "plt.scatter(filtered_label0[:,0] , filtered_label0[:,1])\n",
        "plt.show()"
      ],
      "metadata": {
        "colab": {
          "base_uri": "https://localhost:8080/",
          "height": 265
        },
        "id": "fClO_q13c0b0",
        "outputId": "506040cd-2bcb-4cd7-9730-b22a9f7a9f5b"
      },
      "execution_count": null,
      "outputs": [
        {
          "output_type": "display_data",
          "data": {
            "text/plain": [
              "<Figure size 432x288 with 1 Axes>"
            ],
            "image/png": "[encoded data removed]"
          },
          "metadata": {
            "needs_background": "light"
          }
        }
      ]
    },
    {
      "cell_type": "code",
      "source": [
        "#Getting the Centroids\n",
        "centroids = kmeans.cluster_centers_\n",
        "u_labels = np.unique(label)\n",
        " \n",
        "#plotting the results:\n",
        "\n",
        "labels = ['Average', 'Less Safe', 'Very Safe']\n",
        "colors = ['blue', 'orange', 'green']\n",
        " \n",
        "for i in u_labels:\n",
        "    plt.scatter(df[label == i , 0] , df[label == i , 1] , label = labels[i])\n",
        "#plt.scatter(centroids[:,0] , centroids[:,1] , s = 1, color = 'red')\n",
        "#circle1 = plt.Circle((centroids[0,0], centroids[0,1]), 1, color='b', alpha=0.3)\n",
        "#circle2 = plt.Circle((centroids[1,0]-0.15, centroids[1,1]), 1, color='orange', alpha=0.3)\n",
        "#circle3 = plt.Circle((centroids[2,0]-0.3, centroids[2,1]), 1, color='green', alpha=0.3)\n",
        "#plt.gca().add_patch(circle1)\n",
        "#plt.gca().add_patch(circle2)\n",
        "#plt.gca().add_patch(circle3)\n",
        "plt.title('EPS Usage - Safety correlation')\n",
        "plt.ylabel('Percentage of time EPS is on')\n",
        "plt.xlabel('Driver safety score')\n",
        "plt.legend()\n",
        "plt.show()"
      ],
      "metadata": {
        "colab": {
          "base_uri": "https://localhost:8080/",
          "height": 295
        },
        "id": "t5_c2dG5c24u",
        "outputId": "234d7b42-34f1-4754-f5f6-e5fef7501dab"
      },
      "execution_count": null,
      "outputs": [
        {
          "output_type": "display_data",
          "data": {
            "text/plain": [
              "<Figure size 432x288 with 1 Axes>"
            ],
            "image/png": "[encoded data removed]"
          },
          "metadata": {
            "needs_background": "light"
          }
        }
      ]
    }
  ]
}